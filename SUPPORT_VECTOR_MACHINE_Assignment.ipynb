{
  "cells": [
    {
      "cell_type": "markdown",
      "metadata": {
        "id": "view-in-github",
        "colab_type": "text"
      },
      "source": [
        "<a href=\"https://colab.research.google.com/github/Stephyj2/Adobe_Photoshop/blob/master/SUPPORT_VECTOR_MACHINE_Assignment.ipynb\" target=\"_parent\"><img src=\"https://colab.research.google.com/assets/colab-badge.svg\" alt=\"Open In Colab\"/></a>"
      ]
    },
    {
      "cell_type": "markdown",
      "metadata": {
        "id": "Yq7bjXQSUg-5"
      },
      "source": [
        "#**SUPPORT VECTOR MACHINE**\n",
        "\n",
        "\n",
        "###**Dataset Selection:**\n",
        "For this assignment, we'll utilize the widely recognized Mushroom Dataset\n",
        "\n",
        "**Task 1: Exploratory Data Analysis (EDA)**\n",
        "1.\tLoad the Mushroom dataset and perform fundamental data exploration.\n",
        "2.\tUtilize histograms, box plots, or density plots to understand feature distributions.\n",
        "3.\tInvestigate feature correlations to discern relationships within the data.\n",
        "\n",
        "**Task 2: Data Preprocessing**\n",
        "1.\tEncode categorical variables if necessary.\n",
        "2.\tSplit the dataset into training and testing sets.\n",
        "\n",
        "**Task 3: Data Visualization**\n",
        "1.\tEmploy scatter plots, pair plots, or relevant visualizations to comprehend feature distributions and relationships.\n",
        "2.\tVisualize class distributions to gauge dataset balance or imbalance.\n",
        "\n",
        "**Task 4: SVM Implementation**\n",
        "1.\tImplement a basic SVM classifier using Python libraries like scikit-learn.\n",
        "2.\tTrain the SVM model on the training data.\n",
        "3.\tEvaluate model performance on the testing data using appropriate metrics (e.g., accuracy, precision, recall, F1-score).\n",
        "\n",
        "**Task 5: Visualization of SVM Results**\n",
        "1.\tVisualize classification results on the testing data.\n",
        "\n",
        "**Task 6: Parameter Tuning and Optimization**\n",
        "1.\tExperiment with different SVM hyperparameters (e.g., kernel type, regularization parameter) to optimize performance.\n",
        "\n",
        "**Task 7: Comparison and Analysis**\n",
        "1.\tCompare SVM performance with various kernels (e.g., linear, polynomial, radial basis function).\n",
        "2.\tAnalyze SVM strengths and weaknesses for the Mushroom dataset based on EDA and visualization results.\n",
        "3.\tDiscuss practical implications of SVM in real-world classification tasks.\n",
        "\n"
      ]
    },
    {
      "cell_type": "code",
      "execution_count": null,
      "metadata": {
        "id": "Q1nijn2nUfeT"
      },
      "outputs": [],
      "source": [
        "import pandas as pd\n",
        "import matplotlib.pyplot as plt\n",
        "import pandas as pd\n",
        "import seaborn as sns\n",
        "import numpy as np\n",
        "import warnings\n",
        "warnings.filterwarnings('ignore')\n",
        "from sklearn.model_selection import train_test_split\n",
        "from sklearn.preprocessing import StandardScaler\n",
        "from sklearn.svm import SVC\n",
        "from sklearn.model_selection import GridSearchCV\n",
        "from sklearn.metrics import classification_report,confusion_matrix,accuracy_score, precision_score, recall_score, f1_score"
      ]
    },
    {
      "cell_type": "code",
      "execution_count": null,
      "metadata": {
        "id": "gpP484ILUfgC"
      },
      "outputs": [],
      "source": [
        "#Load file                                                                                                                                                                                                                                                                                                                                                                                                                                                                                                                                                                                                                                                                                                                                                                                                                                                                                                                                                                                                                                                                                                                                                                                                                                                                                                                                                                                                                                                                                                                                                                                                                                                                                                                                                                                                                                                                                                                                                                                                                                                                                                                                                                                                                                                                                                                                                                                                                                                                                                                                                                                                                                                                                                                                                                                                                                                                                                                                                                                                                                                                                                                                                                                                                                                                                                                                                                                                                                                                                                                                                                                                                                                                                                                                                                                                                                                                                                                                                                                                                                                                                                                                                                                                                                                                                                                                                                                                                                                                                                                                                                                                                                                                                                                                                                                                                                                                                                                                                                                                                                                                                                                                                                                                                                                                                                                                                                                                                                                                                                                                                                                                                                                                                                                                                                                                                                                                                                                                                                                                                                                                                                                                                                                                                                                                                                                                                                                                                                                                                                                                                                                                                                                                                                                                                                                                                                                                                                                                                                                                                    # Load the dataset\n",
        "file_path = r'/content/mushroom.csv'\n",
        "data_mush = pd.read_csv(file_path)"
      ]
    },
    {
      "cell_type": "markdown",
      "metadata": {
        "id": "VGwS_msLdTQN"
      },
      "source": [
        "##**Task 1: EDA**"
      ]
    },
    {
      "cell_type": "code",
      "execution_count": null,
      "metadata": {
        "id": "1RAb4kofUfjq"
      },
      "outputs": [],
      "source": [
        "# Display the first few rows of the dataset\n",
        "data_mush.head()"
      ]
    },
    {
      "cell_type": "code",
      "execution_count": null,
      "metadata": {
        "id": "CIqFuCnnUflh"
      },
      "outputs": [],
      "source": [
        "# Display the last few rows of the dataset\n",
        "data_mush.tail()"
      ]
    },
    {
      "cell_type": "code",
      "execution_count": null,
      "metadata": {
        "id": "gI-9XsNJLCZf"
      },
      "outputs": [],
      "source": [
        "data_mush.shape"
      ]
    },
    {
      "cell_type": "markdown",
      "metadata": {
        "id": "zbUmxIkULIy1"
      },
      "source": [
        "**The dataset consists of 2000 entries and 26 columns.**"
      ]
    },
    {
      "cell_type": "code",
      "execution_count": null,
      "metadata": {
        "id": "nJybwrhjLMuU"
      },
      "outputs": [],
      "source": [
        "data_mush.columns"
      ]
    },
    {
      "cell_type": "markdown",
      "metadata": {
        "id": "jgfrW2xwLTda"
      },
      "source": [
        "**Target Variable:** The target variable is class which indicates whether the mushroom is **poisonous or edible.**\n",
        "Classified as poisonous, and edible."
      ]
    },
    {
      "cell_type": "code",
      "execution_count": null,
      "metadata": {
        "id": "GX4M1s2SUfo-"
      },
      "outputs": [],
      "source": [
        "# Drop the unnecessary index column\n",
        "data_mush = data_mush.drop(columns=['Unnamed: 0'])\n",
        "\n",
        "# Get basic statistics of the dataset\n",
        "data_mush.info()\n",
        "data_mush.describe(include='all')"
      ]
    },
    {
      "cell_type": "code",
      "execution_count": null,
      "metadata": {
        "id": "xVB5X5nMLmez"
      },
      "outputs": [],
      "source": [
        "#Typcasting\n",
        "data_mush[data_mush.select_dtypes(include='object').columns] = data_mush.select_dtypes(include='object').astype('category')\n",
        "#Verify\n",
        "data_mush.dtypes"
      ]
    },
    {
      "cell_type": "markdown",
      "metadata": {
        "id": "eEDrjW1QfUwP"
      },
      "source": [
        "**Task 2: Data Preprocessing**"
      ]
    },
    {
      "cell_type": "code",
      "execution_count": null,
      "metadata": {
        "id": "o6Ux5kzQfWgM"
      },
      "outputs": [],
      "source": [
        "# Convert categorical features to numeric for correlation calculation\n",
        "data_encoded = data_mush.apply(lambda x: pd.factorize(x)[0])"
      ]
    },
    {
      "cell_type": "code",
      "execution_count": null,
      "metadata": {
        "id": "o5qB3VyfixRe"
      },
      "outputs": [],
      "source": [
        "from sklearn.model_selection import train_test_split\n",
        "\n",
        "# Assuming 'class' is the target variable (you might need to adjust the column name)\n",
        "X = data_encoded.drop('class', axis=1)  # Features\n",
        "y = data_encoded['class']  # Target\n",
        "\n",
        "# Split the data into training and testing sets (80/20 split)\n",
        "X_train, X_test, y_train, y_test = train_test_split(X, y, test_size=0.2, random_state=42)\n",
        "\n",
        "# Check the shapes of the resulting datasets\n",
        "print(X_train.shape, X_test.shape, y_train.shape, y_test.shape)\n"
      ]
    },
    {
      "cell_type": "code",
      "execution_count": null,
      "metadata": {
        "id": "vTQqu9ibUfq1"
      },
      "outputs": [],
      "source": [
        "# Set up the plotting environment\n",
        "sns.set(style=\"whitegrid\")\n",
        "\n",
        "# Plot histograms for the numerical features\n",
        "fig, axes = plt.subplots(1, 2, figsize=(15, 5))\n",
        "sns.histplot(data_mush['stalk_height'], kde=True, ax=axes[0])\n",
        "axes[0].set_title('Distribution of Stalk Height')\n",
        "sns.histplot(data_mush['cap_diameter'], kde=True, ax=axes[1])\n",
        "axes[1].set_title('Distribution of Cap Diameter')\n",
        "\n",
        "plt.tight_layout()\n",
        "plt.show()"
      ]
    },
    {
      "cell_type": "markdown",
      "metadata": {
        "id": "2pXO7PKlIlbM"
      },
      "source": [
        "1. **Stalk Height Distribution:**\n",
        "- The stalk height shows a nearly uniform distribution, with a slight concentration around the mid-range (approximately 8-12 units).\n",
        "- The data does not appear to have significant skewness, indicating a balanced representation of stalk heights across the dataset.\n",
        "\n",
        "2. **Cap Diameter Distribution:**\n",
        "- The cap diameter has a more varied distribution, with a noticeable peak around the 5-10 unit range.\n",
        "- There is a gradual decline in frequency as the cap diameter increases, suggesting that smaller cap diameters are more common in the dataset.\n",
        "- This feature is slightly skewed to the right, indicating a larger number of mushrooms with smaller cap diameters."
      ]
    },
    {
      "cell_type": "code",
      "execution_count": null,
      "metadata": {
        "id": "Xoj7zQRUG8In"
      },
      "outputs": [],
      "source": [
        "# Plot count plots for categorical features to understand their distributions\n",
        "fig, axes = plt.subplots(3, 3, figsize=(18, 15))\n",
        "sns.countplot(x='cap_shape', data=data_mush, ax=axes[0, 0])\n",
        "sns.countplot(x='cap_surface', data=data_mush, ax=axes[0, 1])\n",
        "sns.countplot(x='cap_color', data=data_mush, ax=axes[0, 2])\n",
        "sns.countplot(x='odor', data=data_mush, ax=axes[1, 0])\n",
        "sns.countplot(x='gill_color', data=data_mush, ax=axes[1, 1])\n",
        "sns.countplot(x='stalk_shape', data=data_mush, ax=axes[1, 2])\n",
        "sns.countplot(x='habitat', data=data_mush, ax=axes[2, 0])\n",
        "sns.countplot(x='ring_type', data=data_mush, ax=axes[2, 1])\n",
        "sns.countplot(x='population', data=data_mush, ax=axes[2, 2])\n",
        "\n",
        "plt.tight_layout()\n",
        "plt.show()"
      ]
    },
    {
      "cell_type": "markdown",
      "metadata": {
        "id": "m6g2cxviI-4f"
      },
      "source": [
        "- **cap_shape:** Shows the distribution of different shapes of mushroom caps.\n",
        "- **cap_surface:** Displays the various surface textures of mushroom caps.\n",
        "- **cap_color:** Illustrates the color variations found in mushroom caps.\n",
        "- **odor:** Represents the different odors that mushrooms can have.\n",
        "- **gill_color:** Shows the distribution of gill colors in mushrooms.\n",
        "- **stalk_shape:** Depicts the different shapes of mushroom stalks.\n",
        "- **habitat:** Visualizes the various habitats where mushrooms are found.\n",
        "- **ring_type:** Displays the types of rings found on the mushroom stalks.\n",
        "population: Illustrates the distribution of mushroom populations in different environments."
      ]
    },
    {
      "cell_type": "code",
      "execution_count": null,
      "metadata": {
        "id": "am3mhZJdHuMj"
      },
      "outputs": [],
      "source": [
        "# Compute the correlation matrix\n",
        "corr_matrix = data_encoded.corr()"
      ]
    },
    {
      "cell_type": "code",
      "execution_count": null,
      "metadata": {
        "id": "TCP4-JzRJRjR"
      },
      "outputs": [],
      "source": [
        "# Plot the correlation matrix\n",
        "plt.figure(figsize=(20,15))\n",
        "sns.heatmap(corr_matrix, annot=True, cmap=\"coolwarm\")\n",
        "plt.show()"
      ]
    },
    {
      "cell_type": "markdown",
      "metadata": {
        "id": "lO-E08anTNuu"
      },
      "source": [
        "**Correlation of Features with Target Variable (class):**\n",
        "- **Odor** has a strong negative correlation with the class variable (-0.79). This suggests that odor is a significant factor in determining whether a mushroom is poisonous or edible. A strong negative correlation indicates that certain odors are highly associated with poisonous mushrooms.\n",
        "\n",
        "- **Gill color and stalk root** show moderate correlations with the class variable (-0.43 and -0.34, respectively), suggesting that these features also contribute to distinguishing between poisonous and edible mushrooms.\n",
        "- **Spore print color and stalk surface below ring** have weaker correlations with the target variable (-0.39 and -0.36), but they still might be useful in classification tasks."
      ]
    },
    {
      "cell_type": "code",
      "execution_count": null,
      "metadata": {
        "id": "G21X7rD_Hy37"
      },
      "outputs": [],
      "source": [
        "# Investigate correlations between numerical features\n",
        "corr = data_mush[['stalk_height', 'cap_diameter']].corr()\n",
        "\n",
        "# Display the correlation matrix\n",
        "sns.heatmap(corr, annot=True, cmap='coolwarm', vmin=-1, vmax=1)\n",
        "plt.title('Correlation Matrix for Numerical Features')\n",
        "plt.show()"
      ]
    },
    {
      "cell_type": "markdown",
      "metadata": {
        "id": "YOBJ9Ms6TPUT"
      },
      "source": [
        "**Correlation between Stalk Height and Cap Diameter:**\n",
        "- The correlation coefficient between stalk_height and cap_diameter is approximately -0.0035.\n",
        "- This near-zero correlation indicates that there is almost no linear relationship between these two features. In other words, changes in stalk height are not associated with changes in cap diameter.\n",
        "\n",
        "**Individual Feature Correlation:**\n",
        "- Both stalk_height and cap_diameter have a perfect correlation with themselves (as expected), represented by the value of 1 on the diagonal of the matrix."
      ]
    },
    {
      "cell_type": "markdown",
      "metadata": {
        "id": "D0SRQAeYf16B"
      },
      "source": [
        "**Task 3: Data Visualization**"
      ]
    },
    {
      "cell_type": "code",
      "execution_count": null,
      "metadata": {
        "id": "s_IVe8dof-kd"
      },
      "outputs": [],
      "source": [
        "# scatter plot: Cap Diameter vs Stalk Height\n",
        "plt.figure(figsize=(10, 6))\n",
        "\n",
        "# Verify the correct column name for the encoded class\n",
        "# If 'class_p' is incorrect, replace it with the actual column name\n",
        "plt.scatter(data_encoded['cap_diameter'], data_encoded['stalk_height'], c=data_encoded['class'], cmap='coolwarm')\n",
        "\n",
        "plt.title('Cap Diameter vs Stalk Height')\n",
        "plt.xlabel('Cap Diameter')\n",
        "plt.ylabel('Stalk Height')\n",
        "plt.colorbar(label='Class (0: Edible, 1: Poisonous)')\n",
        "plt.show()"
      ]
    },
    {
      "cell_type": "markdown",
      "metadata": {
        "id": "lSuJEhVVhqtD"
      },
      "source": [
        "- **Linearity:** The first diagram shows a scatter plot of Cap Diameter versus Stalk Height, with data points colored based on their class (0 for edible, 1 for poisonous). There appears to be a linear relationship between Cap Diameter and Stalk Height for the majority of the data points.\n",
        "- **Overlapping Data Points:** Both classes (edible and poisonous) are heavily overlapping along this linear trend, making it challenging to differentiate between them based solely on these two features.\n",
        "- **Outliers:** A few outliers are visible, with some points deviating significantly from the linear trend, particularly at low values of Cap Diameter and Stalk Height. These outliers could impact model performance, especially in distance-based classifiers like SVM."
      ]
    },
    {
      "cell_type": "code",
      "execution_count": null,
      "metadata": {
        "id": "g7NVfozuf-mb"
      },
      "outputs": [],
      "source": [
        "# Using a subset of features to make the plot more interpretable\n",
        "subset = data_encoded[['cap_diameter', 'stalk_height', 'class']]  # Assuming 'class' is the correct column name\n",
        "\n",
        "# Pair plot\n",
        "sns.pairplot(subset, hue='class', palette='coolwarm')  # Update hue as well\n",
        "plt.suptitle('Pair Plot of Selected Features', y=1.02)\n",
        "plt.show()"
      ]
    },
    {
      "cell_type": "markdown",
      "metadata": {
        "id": "9WX_pCGJ7VOs"
      },
      "source": [
        "- **Density Distribution:** The pair plot shows the distribution and scatter plots of Cap Diameter and Stalk Height, with data points colored by class. The diagonal plots show the distribution of each feature separately.\n",
        "- **Bimodal Distribution:** The distributions of both Cap Diameter and Stalk Height appear to be bimodal, suggesting two main clusters or groups within the data.\n",
        "- **Class Overlap:** There is significant overlap between the edible (class 0) and poisonous (class 1) mushrooms in both features. This overlap indicates that these two features alone may not be sufficient to accurately separate the classes.\n",
        "- **Correlation:** The scatter plots show a strong positive correlation between Cap Diameter and Stalk Height. However, this correlation does not seem to provide a clear boundary between the two classes."
      ]
    },
    {
      "cell_type": "code",
      "execution_count": null,
      "metadata": {
        "colab": {
          "base_uri": "https://localhost:8080/",
          "height": 480
        },
        "id": "X8o_2IMOf-pL",
        "outputId": "c1750fc5-d240-42ed-c6bc-2fb8a2c0cfbc"
      },
      "outputs": [
        {
          "output_type": "display_data",
          "data": {
            "text/plain": [
              "<Figure size 640x480 with 1 Axes>"
            ],
            "image/png": "[encoded data removed]"
          },
          "metadata": {}
        }
      ],
      "source": [
        "#Class Distribution\n",
        "# Visualize the class distribution\n",
        "sns.countplot(x='class', data=data_encoded, palette='coolwarm')  # Assuming 'class' is the correct column name\n",
        "plt.title('Class Distribution')\n",
        "plt.xlabel('Class (0: Edible, 1: Poisonous)')\n",
        "plt.ylabel('Count')\n",
        "plt.show()\n"
      ]
    },
    {
      "cell_type": "markdown",
      "metadata": {
        "id": "TYi4Zu_X7yOt"
      },
      "source": [
        "- **Edible (0):** Represented by the blue bar, with a count just above 1200.\n",
        "- **Poisonous (1):** Represented by the orange bar, with a count just below 800.\n",
        "\n",
        "This distribution indicates that the dataset has more edible instances than poisonous ones."
      ]
    },
    {
      "cell_type": "markdown",
      "metadata": {
        "id": "6Mv03BcXjj-m"
      },
      "source": [
        "##**Task 4: SVM Implementation**"
      ]
    },
    {
      "cell_type": "code",
      "execution_count": null,
      "metadata": {
        "colab": {
          "base_uri": "https://localhost:8080/",
          "height": 75
        },
        "id": "5T_vOxVtKCvx",
        "outputId": "9f28c562-fa48-4f9d-87c4-b75bdcf5769e"
      },
      "outputs": [
        {
          "output_type": "execute_result",
          "data": {
            "text/plain": [
              "SVC()"
            ],
            "text/html": [
              "<style>#sk-container-id-2 {color: black;}#sk-container-id-2 pre{padding: 0;}#sk-container-id-2 div.sk-toggleable {background-color: white;}#sk-container-id-2 label.sk-toggleable__label {cursor: pointer;display: block;width: 100%;margin-bottom: 0;padding: 0.3em;box-sizing: border-box;text-align: center;}#sk-container-id-2 label.sk-toggleable__label-arrow:before {content: \"▸\";float: left;margin-right: 0.25em;color: #696969;}#sk-container-id-2 label.sk-toggleable__label-arrow:hover:before {color: black;}#sk-container-id-2 div.sk-estimator:hover label.sk-toggleable__label-arrow:before {color: black;}#sk-container-id-2 div.sk-toggleable__content {max-height: 0;max-width: 0;overflow: hidden;text-align: left;background-color: #f0f8ff;}#sk-container-id-2 div.sk-toggleable__content pre {margin: 0.2em;color: black;border-radius: 0.25em;background-color: #f0f8ff;}#sk-container-id-2 input.sk-toggleable__control:checked~div.sk-toggleable__content {max-height: 200px;max-width: 100%;overflow: auto;}#sk-container-id-2 input.sk-toggleable__control:checked~label.sk-toggleable__label-arrow:before {content: \"▾\";}#sk-container-id-2 div.sk-estimator input.sk-toggleable__control:checked~label.sk-toggleable__label {background-color: #d4ebff;}#sk-container-id-2 div.sk-label input.sk-toggleable__control:checked~label.sk-toggleable__label {background-color: #d4ebff;}#sk-container-id-2 input.sk-hidden--visually {border: 0;clip: rect(1px 1px 1px 1px);clip: rect(1px, 1px, 1px, 1px);height: 1px;margin: -1px;overflow: hidden;padding: 0;position: absolute;width: 1px;}#sk-container-id-2 div.sk-estimator {font-family: monospace;background-color: #f0f8ff;border: 1px dotted black;border-radius: 0.25em;box-sizing: border-box;margin-bottom: 0.5em;}#sk-container-id-2 div.sk-estimator:hover {background-color: #d4ebff;}#sk-container-id-2 div.sk-parallel-item::after {content: \"\";width: 100%;border-bottom: 1px solid gray;flex-grow: 1;}#sk-container-id-2 div.sk-label:hover label.sk-toggleable__label {background-color: #d4ebff;}#sk-container-id-2 div.sk-serial::before {content: \"\";position: absolute;border-left: 1px solid gray;box-sizing: border-box;top: 0;bottom: 0;left: 50%;z-index: 0;}#sk-container-id-2 div.sk-serial {display: flex;flex-direction: column;align-items: center;background-color: white;padding-right: 0.2em;padding-left: 0.2em;position: relative;}#sk-container-id-2 div.sk-item {position: relative;z-index: 1;}#sk-container-id-2 div.sk-parallel {display: flex;align-items: stretch;justify-content: center;background-color: white;position: relative;}#sk-container-id-2 div.sk-item::before, #sk-container-id-2 div.sk-parallel-item::before {content: \"\";position: absolute;border-left: 1px solid gray;box-sizing: border-box;top: 0;bottom: 0;left: 50%;z-index: -1;}#sk-container-id-2 div.sk-parallel-item {display: flex;flex-direction: column;z-index: 1;position: relative;background-color: white;}#sk-container-id-2 div.sk-parallel-item:first-child::after {align-self: flex-end;width: 50%;}#sk-container-id-2 div.sk-parallel-item:last-child::after {align-self: flex-start;width: 50%;}#sk-container-id-2 div.sk-parallel-item:only-child::after {width: 0;}#sk-container-id-2 div.sk-dashed-wrapped {border: 1px dashed gray;margin: 0 0.4em 0.5em 0.4em;box-sizing: border-box;padding-bottom: 0.4em;background-color: white;}#sk-container-id-2 div.sk-label label {font-family: monospace;font-weight: bold;display: inline-block;line-height: 1.2em;}#sk-container-id-2 div.sk-label-container {text-align: center;}#sk-container-id-2 div.sk-container {/* jupyter's `normalize.less` sets `[hidden] { display: none; }` but bootstrap.min.css set `[hidden] { display: none !important; }` so we also need the `!important` here to be able to override the default hidden behavior on the sphinx rendered scikit-learn.org. See: https://github.com/scikit-learn/scikit-learn/issues/21755 */display: inline-block !important;position: relative;}#sk-container-id-2 div.sk-text-repr-fallback {display: none;}</style><div id=\"sk-container-id-2\" class=\"sk-top-container\"><div class=\"sk-text-repr-fallback\"><pre>SVC()</pre><b>In a Jupyter environment, please rerun this cell to show the HTML representation or trust the notebook. <br />On GitHub, the HTML representation is unable to render, please try loading this page with nbviewer.org.</b></div><div class=\"sk-container\" hidden><div class=\"sk-item\"><div class=\"sk-estimator sk-toggleable\"><input class=\"sk-toggleable__control sk-hidden--visually\" id=\"sk-estimator-id-2\" type=\"checkbox\" checked><label for=\"sk-estimator-id-2\" class=\"sk-toggleable__label sk-toggleable__label-arrow\">SVC</label><div class=\"sk-toggleable__content\"><pre>SVC()</pre></div></div></div></div></div>"
            ]
          },
          "metadata": {},
          "execution_count": 44
        }
      ],
      "source": [
        "# Initialize the SVM model\n",
        "svm_model = SVC()\n",
        "\n",
        "# Train the model on the training data\n",
        "svm_model.fit(X_train, y_train)"
      ]
    },
    {
      "cell_type": "code",
      "execution_count": null,
      "metadata": {
        "id": "MHo5NOGRKCza"
      },
      "outputs": [],
      "source": [
        "# Make predictions on the testing data\n",
        "y_pred = svm_model.predict(X_test)"
      ]
    },
    {
      "cell_type": "code",
      "execution_count": null,
      "metadata": {
        "id": "jrCByM6Cj00-"
      },
      "outputs": [],
      "source": [
        "# Evaluate model performance\n",
        "accuracy = accuracy_score(y_test, y_pred)\n",
        "precision = precision_score(y_test, y_pred, average='weighted')\n",
        "recall = recall_score(y_test, y_pred, average='weighted')\n",
        "f1 = f1_score(y_test, y_pred, average='weighted')\n"
      ]
    },
    {
      "cell_type": "code",
      "execution_count": null,
      "metadata": {
        "colab": {
          "base_uri": "https://localhost:8080/"
        },
        "id": "925oCl69KC1f",
        "outputId": "46106529-18ce-4fc3-e294-1ecb921a3cdd"
      },
      "outputs": [
        {
          "output_type": "stream",
          "name": "stdout",
          "text": [
            "Accuracy: 0.6675\n",
            "Precision: 0.4456\n",
            "Recall: 0.6675\n",
            "F1 Score: 0.5344\n"
          ]
        }
      ],
      "source": [
        "# Print the results\n",
        "print(f'Accuracy: {accuracy:.4f}')\n",
        "print(f'Precision: {precision:.4f}')\n",
        "print(f'Recall: {recall:.4f}')\n",
        "print(f'F1 Score: {f1:.4f}')"
      ]
    },
    {
      "cell_type": "markdown",
      "metadata": {
        "id": "To-H09YgkyNr"
      },
      "source": [
        "##**Task 5: Visualization of SVM Results**"
      ]
    },
    {
      "cell_type": "code",
      "execution_count": null,
      "metadata": {
        "colab": {
          "base_uri": "https://localhost:8080/",
          "height": 650
        },
        "id": "GvsNzSfgllGw",
        "outputId": "180119be-2146-4dcf-a4b5-779caee27c71"
      },
      "outputs": [
        {
          "output_type": "display_data",
          "data": {
            "text/plain": [
              "<Figure size 1000x700 with 2 Axes>"
            ],
            "image/png": "[encoded data removed]"
          },
          "metadata": {}
        }
      ],
      "source": [
        "# Compute the confusion matrix\n",
        "cm = confusion_matrix(y_test, y_pred)\n",
        "\n",
        "# Create a heatmap for the confusion matrix\n",
        "plt.figure(figsize=(10, 7))\n",
        "sns.heatmap(cm, annot=True, fmt='d', cmap='Blues', xticklabels=['Class 0', 'Class 1'], yticklabels=['Class 0', 'Class 1'])\n",
        "plt.xlabel('Predicted')\n",
        "plt.ylabel('True')\n",
        "plt.title('Confusion Matrix')\n",
        "plt.show()\n"
      ]
    },
    {
      "cell_type": "markdown",
      "metadata": {
        "id": "XphVsiaSIZPG"
      },
      "source": [
        "- **True Positives (Class 0):** 267 instances where the model correctly predicted Class 0.\n",
        "- **False Negatives (Class 0):** 133 instances where the model incorrectly predicted Class 0 instead of Class 1.\n",
        "- **True Positives (Class 1):** 0 instances where the model correctly predicted Class 1.\n",
        "- **False Negatives (Class 1):** 0 instances where the model incorrectly predicted Class 1 instead of Class 0.\n",
        "\n",
        "This matrix indicates that the model performs well in predicting Class 0 but struggles with Class 1."
      ]
    },
    {
      "cell_type": "code",
      "execution_count": null,
      "metadata": {
        "colab": {
          "base_uri": "https://localhost:8080/"
        },
        "id": "JTxb5WuCJRrI",
        "outputId": "2f5ea1f7-6a5c-4e86-e9ff-de1e4993e28d"
      },
      "outputs": [
        {
          "output_type": "stream",
          "name": "stdout",
          "text": [
            "              precision    recall  f1-score   support\n",
            "\n",
            "     Class 0       0.67      1.00      0.80       267\n",
            "     Class 1       0.00      0.00      0.00       133\n",
            "\n",
            "    accuracy                           0.67       400\n",
            "   macro avg       0.33      0.50      0.40       400\n",
            "weighted avg       0.45      0.67      0.53       400\n",
            "\n"
          ]
        }
      ],
      "source": [
        "# Generate the classification report\n",
        "report = classification_report(y_test, y_pred, target_names=['Class 0', 'Class 1'])\n",
        "print(report)"
      ]
    },
    {
      "cell_type": "markdown",
      "metadata": {
        "id": "bg_UHi0BJScQ"
      },
      "source": [
        "###**Class 0 (Edible):**\n",
        "- **Precision (0.67):** Out of all the predictions made for Class 0, 67% were actually correct. This means that when the model predicted a mushroom as edible, it was right 67% of the time.\n",
        "- **Recall (1.00):** The model correctly identified all instances of Class 0 (edible mushrooms) in the test set. This indicates that the model did not miss any edible mushrooms.\n",
        "- **F1-Score (0.80):** This is the harmonic mean of precision and recall, representing the balance between the two. A score of 0.80 suggests the model performs reasonably well in identifying edible mushrooms.\n",
        "- **Support (267):** This indicates that there were 267 instances of Class 0 in the test set.\n",
        "\n",
        "###**Class 1 (Poisonous):**\n",
        "- **Precision (0.00):** Out of all the predictions made for Class 1, none were correct. This means the model failed to correctly predict any poisonous mushrooms.\n",
        "- **Recall (0.00):** The model failed to identify any of the poisonous mushrooms in the test set.\n",
        "- **F1-Score (0.00):** With both precision and recall at zero, the F1-score also reflects this complete failure to correctly classify poisonous mushrooms.\n",
        "- **Support (133):** There were 133 instances of Class 1 in the test set."
      ]
    },
    {
      "cell_type": "code",
      "execution_count": null,
      "metadata": {
        "id": "1xjo3qF-JRrj"
      },
      "outputs": [],
      "source": []
    },
    {
      "cell_type": "markdown",
      "metadata": {
        "id": "00kIl6bZcnmR"
      },
      "source": [
        "##**Task 6: Parameter Tuning and Optimization**"
      ]
    },
    {
      "cell_type": "code",
      "source": [
        "#Avoided GridSearch since taking too much time to load\n",
        "''''from sklearn.model_selection import GridSearchCV\n",
        "\n",
        "# Define the SVM model\n",
        "svm = SVC()\n",
        "\n",
        "# Set up the parameter grid for hyperparameter tuning\n",
        "param_grid = {\n",
        "    'C': [0.1, 1, 10, 100],\n",
        "    'gamma': [1, 0.1, 0.01, 0.001],\n",
        "    'kernel': ['linear', 'poly', 'rbf', 'sigmoid']\n",
        "}\n",
        "\n",
        "# Use GridSearchCV for hyperparameter tuning\n",
        "grid = GridSearchCV(svm, param_grid, refit=True, verbose=2, cv=5)\n",
        "grid.fit(X_train_sample, y_train_sample)\n",
        "\n",
        "# Get the best parameters and best score\n",
        "best_params = grid.best_params_\n",
        "best_score = grid.best_score_\n",
        "\n",
        "print(f\"Best Parameters: {best_params}\")\n",
        "print(f\"Best Score: {best_score}\")\n",
        "\n",
        "# Print the best parameters and estimator\n",
        "print(\"Best Parameters found by GridSearch:\", grid.best_params_)\n",
        "\n",
        "# Make predictions using the best model\n",
        "grid_predictions = grid.predict(X_test)\n",
        "\n",
        "# Evaluate the optimized model\n",
        "print(f\"Optimized Accuracy: {accuracy_score(y_test, grid_predictions):.4f}\")\n",
        "print(f\"Optimized F1 Score: {f1_score(y_test, grid_predictions, average='weighted'):.4f}\")'''\n"
      ],
      "metadata": {
        "id": "PwXRGzqc8wNj"
      },
      "execution_count": null,
      "outputs": []
    },
    {
      "cell_type": "code",
      "execution_count": null,
      "metadata": {
        "id": "8RQYsZG4OGwV"
      },
      "outputs": [],
      "source": [
        "from sklearn.model_selection import RandomizedSearchCV\n",
        "from sklearn.svm import SVC\n",
        "\n",
        "# Define a smaller parameter grid\n",
        "'''param_grid = {\n",
        "    'kernel': ['linear', 'rbf'],\n",
        "    'C': [0.1, 1, 10],\n",
        "    'gamma': ['scale', 'auto']\n",
        "}'''\n",
        "\n",
        "param_grid = {\n",
        "    'C': [0.1, 1, 10, 100],\n",
        "    'gamma': [1, 0.1, 0.01, 0.001],\n",
        "    'kernel': ['linear', 'poly', 'rbf', 'sigmoid']\n",
        "}\n",
        "# Assuming X_train and y_train are your original training datasets\n",
        "#X_train_sample = X_train[:1000]\n",
        "#y_train_sample = y_train[:1000]\n",
        "\n",
        "\n",
        "# Initialize the SVM model\n",
        "svm = SVC()\n",
        "\n",
        "# Initialize RandomizedSearchCV\n",
        "random_search = RandomizedSearchCV(estimator=svm, param_distributions=param_grid, n_iter=20, cv=5, scoring='accuracy', n_jobs=-1)\n",
        "\n",
        "# Fit the model\n",
        "random_search.fit(X_train, y_train)\n",
        "\n",
        "# Get the best parameters and best score\n",
        "best_params = random_search.best_params_\n",
        "best_score = random_search.best_score_\n",
        "\n",
        "print(f\"Best Parameters: {best_params}\")\n",
        "print(f\"Best Score: {best_score}\")\n"
      ]
    },
    {
      "cell_type": "code",
      "source": [
        "best_svm = SVC(**best_params)\n",
        "best_svm.fit(X_train, y_train)\n",
        "\n",
        "test_accuracy = best_svm.score(X_test, y_test)\n",
        "print(f\"Test Accuracy with Optimized SVM: {test_accuracy}\")\n"
      ],
      "metadata": {
        "colab": {
          "base_uri": "https://localhost:8080/"
        },
        "id": "ShH4e-vN8Bab",
        "outputId": "f1a842db-3919-4cd6-e4f8-47a1d9358d6f"
      },
      "execution_count": null,
      "outputs": [
        {
          "output_type": "stream",
          "name": "stdout",
          "text": [
            "Test Accuracy with Optimized SVM: 0.885\n"
          ]
        }
      ]
    },
    {
      "cell_type": "markdown",
      "metadata": {
        "id": "_nkBiCpbk3rI"
      },
      "source": [
        "- **Regularization Parameter (C = 1):**\n",
        "The value C=1 implies a moderate level of regularization.The C parameter controls the trade-off between a smooth decision boundary and correctly classifying the training points. A value of 1 indicates that the model balances between avoiding misclassification and keeping the margin as wide as possible.\n",
        "- **Model Performance (Best Score: 0.811):**\n",
        "A cross-validation accuracy of approximately 81.1% suggests that the model is performing well.\n",
        "- **Gamma Setting (auto):**\n",
        "The gamma parameter controls the influence of individual training examples. With 'auto', gamma is set to 1 / n_features, which is often a reasonable starting point, especially when the scale of features varies.\n",
        "- **RBF Kernel Effectiveness:**\n",
        "The RBF (Radial Basis Function) kernel is often preferred in SVM when dealing with non-linear data because it can handle complex relationships between features. Its effectiveness here suggests that the Mushroom dataset has non-linear decision boundaries that are best captured by this kernel.\n"
      ]
    },
    {
      "cell_type": "markdown",
      "metadata": {
        "id": "X8ItBZQ7lOgv"
      },
      "source": [
        "##**Task 7: Comparison and Analysis**"
      ]
    },
    {
      "cell_type": "code",
      "execution_count": null,
      "metadata": {
        "id": "bfTPt62Olvzq",
        "colab": {
          "base_uri": "https://localhost:8080/"
        },
        "outputId": "c105819a-bb52-40e7-89ed-7ee9fd05da1c"
      },
      "outputs": [
        {
          "output_type": "stream",
          "name": "stdout",
          "text": [
            "Kernel: linear\n",
            "Accuracy: 0.6675\n",
            "F1 Score: 0.5344\n",
            "\n",
            "Kernel: poly\n",
            "Accuracy: 0.6675\n",
            "F1 Score: 0.5344\n",
            "\n",
            "Kernel: rbf\n",
            "Accuracy: 0.6675\n",
            "F1 Score: 0.5344\n",
            "\n",
            "Kernel: sigmoid\n",
            "Accuracy: 0.5950\n",
            "F1 Score: 0.5858\n",
            "\n"
          ]
        }
      ],
      "source": [
        "kernels = ['linear', 'poly', 'rbf', 'sigmoid']\n",
        "results = {}\n",
        "\n",
        "for kernel in kernels:\n",
        "    svm = SVC(kernel=kernel)\n",
        "    svm.fit(X_train, y_train)\n",
        "    y_pred = svm.predict(X_test)\n",
        "\n",
        "    accuracy = accuracy_score(y_test, y_pred)\n",
        "    f1 = f1_score(y_test, y_pred, average='weighted')\n",
        "\n",
        "    results[kernel] = {'accuracy': accuracy, 'f1_score': f1}\n",
        "\n",
        "# Display results\n",
        "for kernel, metrics in results.items():\n",
        "    print(f\"Kernel: {kernel}\")\n",
        "    print(f\"Accuracy: {metrics['accuracy']:.4f}\")\n",
        "    print(f\"F1 Score: {metrics['f1_score']:.4f}\\n\")\n"
      ]
    },
    {
      "cell_type": "code",
      "execution_count": null,
      "metadata": {
        "id": "b4gBUDu9uJBk"
      },
      "outputs": [],
      "source": []
    },
    {
      "cell_type": "code",
      "execution_count": null,
      "metadata": {
        "id": "Z83oQOttuJUd"
      },
      "outputs": [],
      "source": []
    }
  ],
  "metadata": {
    "colab": {
      "provenance": [],
      "authorship_tag": "ABX9TyN/Jd4dECnLkNY94UiSHfnk",
      "include_colab_link": true
    },
    "kernelspec": {
      "display_name": "Python 3",
      "name": "python3"
    },
    "language_info": {
      "name": "python"
    }
  },
  "nbformat": 4,
  "nbformat_minor": 0
}